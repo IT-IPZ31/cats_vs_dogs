{
 "cells": [
  {
   "cell_type": "code",
   "execution_count": 4,
   "id": "2dc5035e-542e-430b-bbd1-23872e4e49fe",
   "metadata": {},
   "outputs": [],
   "source": [
    "import tensorflow as tf\n",
    "import numpy as np\n",
    "from matplotlib import pyplot as plt\n",
    "import keras\n",
    "from keras.preprocessing import image\n",
    "from keras.preprocessing.image import ImageDataGenerator"
   ]
  },
  {
   "cell_type": "code",
   "execution_count": 5,
   "id": "7b81d60c-4ab2-44d2-8a95-c11f9dd13441",
   "metadata": {},
   "outputs": [
    {
     "name": "stdout",
     "output_type": "stream",
     "text": [
      "Found 8005 images belonging to 2 classes.\n"
     ]
    }
   ],
   "source": [
    "train_ds = ImageDataGenerator(rescale = 1./255, shear_range = 0.2, zoom_range = 0.2, horizontal_flip = True)\n",
    "train_ds = train_ds.flow_from_directory('training_set/training_set', target_size=(64, 64), \n",
    "                                        batch_size=32, class_mode='binary')"
   ]
  },
  {
   "cell_type": "code",
   "execution_count": 6,
   "id": "56879cd5-c714-4845-a9e6-714f05202aff",
   "metadata": {},
   "outputs": [
    {
     "name": "stdout",
     "output_type": "stream",
     "text": [
      "Found 2023 images belonging to 2 classes.\n"
     ]
    }
   ],
   "source": [
    "test_ds = ImageDataGenerator(rescale = 1./255)\n",
    "test_ds = test_ds.flow_from_directory('test_set/test_set/', target_size=(64, 64), batch_size=32, \n",
    "                                      class_mode='binary')                                "
   ]
  },
  {
   "cell_type": "code",
   "execution_count": 7,
   "id": "a9d9e067-b564-4da8-acba-78b92a09ca71",
   "metadata": {
    "tags": []
   },
   "outputs": [],
   "source": [
    "model = tf.keras.models.Sequential()\n",
    "\n",
    "model.add(tf.keras.layers.Conv2D(filters=32, kernel_size=3, activation='relu', input_shape=[64, 64, 3]))\n",
    "\n",
    "model.add(tf.keras.layers.MaxPool2D(pool_size=2, strides=2))"
   ]
  },
  {
   "cell_type": "code",
   "execution_count": 8,
   "id": "baa3cfef-85a9-45eb-8fff-9bed9dbc984d",
   "metadata": {},
   "outputs": [],
   "source": [
    "model.add(tf.keras.layers.Conv2D(filters = 32,kernel_size = 3, activation = 'relu'))\n",
    "model.add(tf.keras.layers.MaxPool2D(pool_size = 2, strides = 2))"
   ]
  },
  {
   "cell_type": "code",
   "execution_count": 9,
   "id": "a953ff44-7368-4ed1-aea9-fd34a71f2d68",
   "metadata": {},
   "outputs": [],
   "source": [
    "model.add(tf.keras.layers.Flatten())"
   ]
  },
  {
   "cell_type": "code",
   "execution_count": 10,
   "id": "0b0e8ca5-54fe-49a1-a75b-4ab364a47ea4",
   "metadata": {},
   "outputs": [],
   "source": [
    "model.add(tf.keras.layers.Dense(units=128, activation='relu'))\n"
   ]
  },
  {
   "cell_type": "code",
   "execution_count": 11,
   "id": "17784040-381a-4ae2-8893-2add75d42140",
   "metadata": {},
   "outputs": [],
   "source": [
    "model.add(tf.keras.layers.Dense(units=1, activation='sigmoid'))\n"
   ]
  },
  {
   "cell_type": "code",
   "execution_count": 12,
   "id": "efcd05ea-01d8-4c41-951e-f9a3d2691584",
   "metadata": {},
   "outputs": [],
   "source": [
    "model.compile(optimizer='adam', loss='binary_crossentropy', metrics=['accuracy'])"
   ]
  },
  {
   "cell_type": "code",
   "execution_count": 13,
   "id": "026dbb68-8706-4937-85f4-d7e2ff2296e5",
   "metadata": {
    "tags": []
   },
   "outputs": [],
   "source": [
    "model.load_weights('checkpoints/model_at_20.h5')"
   ]
  },
  {
   "cell_type": "code",
   "execution_count": 14,
   "id": "9538de77-858d-4a4a-a7c0-79ed286c1dc7",
   "metadata": {},
   "outputs": [],
   "source": [
    "def predict_image(filename, model, i):\n",
    "    predict = tf.keras.utils.load_img(filename, target_size = (64, 64))   \n",
    "    predict_modified = tf.keras.utils.img_to_array(predict)\n",
    "    predict_modified = predict_modified / 255\n",
    "    predict_modified = np.expand_dims(predict_modified, axis = 0)\n",
    "    result = model.predict(predict_modified)\n",
    "    if result[0][0] >= 0.5:\n",
    "        prediction = 'dog'\n",
    "        probability = result[0][0]\n",
    "        print(\"Prediction = \" + prediction)\n",
    "        print (\"probability = \" + str(probability))\n",
    "    else:\n",
    "        prediction = 'cat'\n",
    "        probability = 1 - result[0][0]\n",
    "        print(\"Prediction = \" + prediction)\n",
    "        print (\"probability = \" + str(probability))"
   ]
  },
  {
   "cell_type": "code",
   "execution_count": 15,
   "id": "d7116219-26ca-4742-b4af-d17002b50dd0",
   "metadata": {},
   "outputs": [
    {
     "name": "stdout",
     "output_type": "stream",
     "text": [
      "1/1 [==============================] - 0s 161ms/step\n",
      "Prediction = dog\n",
      "probability = 0.66152406\n",
      "1/1 [==============================] - 0s 24ms/step\n",
      "Prediction = dog\n",
      "probability = 0.892339\n",
      "1/1 [==============================] - 0s 24ms/step\n",
      "Prediction = dog\n",
      "probability = 0.98126984\n",
      "1/1 [==============================] - 0s 25ms/step\n",
      "Prediction = dog\n",
      "probability = 0.99773496\n",
      "1/1 [==============================] - 0s 23ms/step\n",
      "Prediction = cat\n",
      "probability = 0.9069023430347443\n",
      "1/1 [==============================] - 0s 25ms/step\n",
      "Prediction = dog\n",
      "probability = 0.9530731\n",
      "1/1 [==============================] - 0s 24ms/step\n",
      "Prediction = cat\n",
      "probability = 0.9999987125960388\n",
      "1/1 [==============================] - 0s 28ms/step\n",
      "Prediction = cat\n",
      "probability = 0.8632197827100754\n"
     ]
    }
   ],
   "source": [
    "for i in range(1, 9):\n",
    "    predict_image(f'cat_dog_to_predict/{i}.jpg', model, i)"
   ]
  }
 ],
 "metadata": {
  "kernelspec": {
   "display_name": "Python 3 (ipykernel)",
   "language": "python",
   "name": "python3"
  },
  "language_info": {
   "codemirror_mode": {
    "name": "ipython",
    "version": 3
   },
   "file_extension": ".py",
   "mimetype": "text/x-python",
   "name": "python",
   "nbconvert_exporter": "python",
   "pygments_lexer": "ipython3",
   "version": "3.9.12"
  }
 },
 "nbformat": 4,
 "nbformat_minor": 5
}
