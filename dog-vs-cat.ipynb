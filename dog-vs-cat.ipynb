{
 "cells": [
  {
   "cell_type": "code",
   "execution_count": 1,
   "id": "2dc5035e-542e-430b-bbd1-23872e4e49fe",
   "metadata": {},
   "outputs": [],
   "source": [
    "import tensorflow as tf\n",
    "import numpy as np\n",
    "from matplotlib import pyplot as plt\n",
    "import keras\n",
    "from keras.preprocessing import image\n",
    "from keras.preprocessing.image import ImageDataGenerator"
   ]
  },
  {
   "cell_type": "code",
   "execution_count": 2,
   "id": "7b81d60c-4ab2-44d2-8a95-c11f9dd13441",
   "metadata": {},
   "outputs": [
    {
     "name": "stdout",
     "output_type": "stream",
     "text": [
      "Found 8005 images belonging to 2 classes.\n"
     ]
    }
   ],
   "source": [
    "train_ds = ImageDataGenerator(rescale = 1./255, shear_range = 0.2, zoom_range = 0.2, horizontal_flip = True)\n",
    "train_ds = train_ds.flow_from_directory('training_set/training_set', target_size=(64, 64), \n",
    "                                        batch_size=32, class_mode='binary')"
   ]
  },
  {
   "cell_type": "code",
   "execution_count": 3,
   "id": "56879cd5-c714-4845-a9e6-714f05202aff",
   "metadata": {},
   "outputs": [
    {
     "name": "stdout",
     "output_type": "stream",
     "text": [
      "Found 2023 images belonging to 2 classes.\n"
     ]
    }
   ],
   "source": [
    "test_ds = ImageDataGenerator(rescale = 1./255)\n",
    "test_ds = test_ds.flow_from_directory('test_set/test_set/', target_size=(64, 64), batch_size=32, \n",
    "                                      class_mode='binary')"
   ]
  },
  {
   "cell_type": "code",
   "execution_count": 4,
   "id": "a9d9e067-b564-4da8-acba-78b92a09ca71",
   "metadata": {
    "tags": []
   },
   "outputs": [],
   "source": [
    "# groups a linear stack of layers into a tf.keras.Model.\n",
    "model = tf.keras.models.Sequential()\n",
    "\n",
    "# activation='relu' - Застосовує функцію активації випрямленої linear unit.\n",
    "# input_shape=[64, 64, 3] (для картинки розміром 64х64) / задаєм цей аргумент, оскільки це перший шар моделі.\n",
    "# Conv2d - шар 2D згортки (наприклад, просторова згортка над зображеннями).\n",
    "model.add(tf.keras.layers.Conv2D(filters=32, kernel_size=3, activation='relu', input_shape=[64, 64, 3]))\n",
    "\n",
    "#MaxPool2D - максимальна операція об’єднання для двовимірних просторових даних.\n",
    "model.add(tf.keras.layers.MaxPool2D(pool_size=2, strides=2))"
   ]
  },
  {
   "cell_type": "code",
   "execution_count": 5,
   "id": "baa3cfef-85a9-45eb-8fff-9bed9dbc984d",
   "metadata": {},
   "outputs": [],
   "source": [
    "model.add(tf.keras.layers.Conv2D(filters = 32,kernel_size = 3, activation = 'relu'))\n",
    "model.add(tf.keras.layers.MaxPool2D(pool_size = 2, strides = 2))"
   ]
  },
  {
   "cell_type": "code",
   "execution_count": 6,
   "id": "a953ff44-7368-4ed1-aea9-fd34a71f2d68",
   "metadata": {},
   "outputs": [],
   "source": [
    "# Flatten - Згладжує введення. Не впливає на batch_size.\n",
    "# Batch_size визначає кількість зразків, які будуть поширюватися через мережу.\n",
    "# Якщо у нас наприклад є 1050 зразків для навчання, ми візьмемо batch_size 100 і будемо брати з 0 - 100 і навчати, потім 101 - 200, ...\n",
    "# І в кінці залишаться 50 і цьому може бути проблема. Тут і допоможе batch_size=50. \n",
    "model.add(tf.keras.layers.Flatten())"
   ]
  },
  {
   "cell_type": "code",
   "execution_count": 7,
   "id": "0b0e8ca5-54fe-49a1-a75b-4ab364a47ea4",
   "metadata": {},
   "outputs": [],
   "source": [
    "# Dence - Просто ваш звичайний щільно зв’язаний шар NN.\n",
    "# units - Ціле додатне число, розмірність вихідного простору.\n",
    "model.add(tf.keras.layers.Dense(units=128, activation='relu'))"
   ]
  },
  {
   "cell_type": "code",
   "execution_count": 8,
   "id": "17784040-381a-4ae2-8893-2add75d42140",
   "metadata": {},
   "outputs": [],
   "source": [
    "# activation='sigmoid' - Сигмовидна функція активації, sigmoid(x) = 1 / (1 + exp(-x)).\n",
    "# Для малих значень (<-5) sigmoidповертає значення, близьке до нуля,\n",
    "# а для великих значень (>5) результат функції наближається до 1.\n",
    "model.add(tf.keras.layers.Dense(units=1, activation='sigmoid'))"
   ]
  },
  {
   "cell_type": "code",
   "execution_count": 9,
   "id": "efcd05ea-01d8-4c41-951e-f9a3d2691584",
   "metadata": {},
   "outputs": [],
   "source": [
    "#The compile() method: specifying a loss, metrics, and an optimizer\n",
    "#To train a model with fit(), you need to specify a loss function, an optimizer, and optionally, some metrics to monitor.\n",
    "model.compile(optimizer='adam', loss='binary_crossentropy', metrics=['accuracy'])"
   ]
  },
  {
   "cell_type": "code",
   "execution_count": 10,
   "id": "026dbb68-8706-4937-85f4-d7e2ff2296e5",
   "metadata": {
    "tags": []
   },
   "outputs": [
    {
     "name": "stdout",
     "output_type": "stream",
     "text": [
      "Epoch 1/20\n",
      "251/251 [==============================] - 49s 193ms/step - loss: 0.6665 - accuracy: 0.5860 - val_loss: 0.6264 - val_accuracy: 0.6466\n",
      "Epoch 2/20\n",
      "251/251 [==============================] - 55s 217ms/step - loss: 0.6047 - accuracy: 0.6762 - val_loss: 0.5875 - val_accuracy: 0.7098\n",
      "Epoch 3/20\n",
      "251/251 [==============================] - 54s 214ms/step - loss: 0.5615 - accuracy: 0.7109 - val_loss: 0.5396 - val_accuracy: 0.7370\n",
      "Epoch 4/20\n",
      "251/251 [==============================] - 54s 215ms/step - loss: 0.5248 - accuracy: 0.7373 - val_loss: 0.5041 - val_accuracy: 0.7593\n",
      "Epoch 5/20\n",
      "251/251 [==============================] - 54s 215ms/step - loss: 0.5023 - accuracy: 0.7502 - val_loss: 0.4841 - val_accuracy: 0.7657\n",
      "Epoch 6/20\n",
      "251/251 [==============================] - 47s 187ms/step - loss: 0.4760 - accuracy: 0.7725 - val_loss: 0.4830 - val_accuracy: 0.7751\n",
      "Epoch 7/20\n",
      "251/251 [==============================] - 47s 188ms/step - loss: 0.4645 - accuracy: 0.7780 - val_loss: 0.5487 - val_accuracy: 0.7425\n",
      "Epoch 8/20\n",
      "251/251 [==============================] - 48s 190ms/step - loss: 0.4497 - accuracy: 0.7933 - val_loss: 0.4627 - val_accuracy: 0.7845\n",
      "Epoch 9/20\n",
      "251/251 [==============================] - 48s 190ms/step - loss: 0.4338 - accuracy: 0.7954 - val_loss: 0.5258 - val_accuracy: 0.7494\n",
      "Epoch 10/20\n",
      "251/251 [==============================] - 50s 199ms/step - loss: 0.4200 - accuracy: 0.8036 - val_loss: 0.5618 - val_accuracy: 0.7425\n",
      "Epoch 11/20\n",
      "251/251 [==============================] - 50s 200ms/step - loss: 0.4057 - accuracy: 0.8139 - val_loss: 0.4763 - val_accuracy: 0.7790\n",
      "Epoch 12/20\n",
      "251/251 [==============================] - 50s 199ms/step - loss: 0.3975 - accuracy: 0.8181 - val_loss: 0.4739 - val_accuracy: 0.7904\n",
      "Epoch 13/20\n",
      "251/251 [==============================] - 50s 201ms/step - loss: 0.3685 - accuracy: 0.8340 - val_loss: 0.4659 - val_accuracy: 0.8038\n",
      "Epoch 14/20\n",
      "251/251 [==============================] - 50s 201ms/step - loss: 0.3681 - accuracy: 0.8332 - val_loss: 0.4734 - val_accuracy: 0.7958\n",
      "Epoch 15/20\n",
      "251/251 [==============================] - 50s 201ms/step - loss: 0.3581 - accuracy: 0.8402 - val_loss: 0.4326 - val_accuracy: 0.8052\n",
      "Epoch 16/20\n",
      "251/251 [==============================] - 50s 198ms/step - loss: 0.3499 - accuracy: 0.8411 - val_loss: 0.4648 - val_accuracy: 0.8057\n",
      "Epoch 17/20\n",
      "251/251 [==============================] - 49s 196ms/step - loss: 0.3296 - accuracy: 0.8560 - val_loss: 0.4610 - val_accuracy: 0.8043\n",
      "Epoch 18/20\n",
      "251/251 [==============================] - 51s 203ms/step - loss: 0.3168 - accuracy: 0.8602 - val_loss: 0.4744 - val_accuracy: 0.7820\n",
      "Epoch 19/20\n",
      "251/251 [==============================] - 51s 202ms/step - loss: 0.3054 - accuracy: 0.8671 - val_loss: 0.4802 - val_accuracy: 0.8008\n",
      "Epoch 20/20\n",
      "251/251 [==============================] - 51s 201ms/step - loss: 0.3014 - accuracy: 0.8700 - val_loss: 0.5559 - val_accuracy: 0.7657\n"
     ]
    },
    {
     "data": {
      "text/plain": [
       "<keras.callbacks.History at 0x1c1860571f0>"
      ]
     },
     "execution_count": 10,
     "metadata": {},
     "output_type": "execute_result"
    }
   ],
   "source": [
    "epochs = 20\n",
    "# callbacks (save the model at each epoch)\n",
    "callbacks = [\n",
    "    keras.callbacks.ModelCheckpoint(\"checkpoints/model_at_{epoch}.h5\"),\n",
    "]\n",
    "model.fit(x=train_ds, validation_data=test_ds, epochs=epochs, callbacks=callbacks)"
   ]
  },
  {
   "cell_type": "code",
   "execution_count": null,
   "id": "3243a461-43c7-421f-962e-d60222e03c7f",
   "metadata": {
    "tags": []
   },
   "outputs": [],
   "source": []
  },
  {
   "cell_type": "code",
   "execution_count": 99,
   "id": "726a04e2-b9f1-42e7-a8be-7c361d801300",
   "metadata": {},
   "outputs": [],
   "source": [
    "for i in range(1, 9):\n",
    "    tf.keras.utils.load_img(f'cat_dog_to_predict/{i}.jpg')"
   ]
  },
  {
   "cell_type": "code",
   "execution_count": 93,
   "id": "9538de77-858d-4a4a-a7c0-79ed286c1dc7",
   "metadata": {},
   "outputs": [],
   "source": [
    "def predic_animal(filename, model, i):\n",
    "    test_img = tf.keras.utils.load_img(filename, target_size = (64, 64))\n",
    "    img = tf.keras.utils.img_to_array(test_img)\n",
    "    img = np.expand_dims(img, axis = 0)\n",
    "    \n",
    "    res = model.predict(img)\n",
    "    #train_ds.class_indices # ?\n",
    "    if res[0][0] == 1:\n",
    "        print(f\"Image {i} - Dog\")\n",
    "    else:\n",
    "        print(f\"Image {i} - Cat\")\n"
   ]
  },
  {
   "cell_type": "code",
   "execution_count": 95,
   "id": "d7116219-26ca-4742-b4af-d17002b50dd0",
   "metadata": {},
   "outputs": [
    {
     "name": "stdout",
     "output_type": "stream",
     "text": [
      "1/1 [==============================] - 0s 24ms/step\n",
      "Image 1 - Dog\n",
      "1/1 [==============================] - 0s 23ms/step\n",
      "Image 2 - Dog\n",
      "1/1 [==============================] - 0s 25ms/step\n",
      "Image 3 - Dog\n",
      "1/1 [==============================] - 0s 34ms/step\n",
      "Image 4 - Dog\n",
      "1/1 [==============================] - 0s 12ms/step\n",
      "Image 5 - Cat\n",
      "1/1 [==============================] - 0s 24ms/step\n",
      "Image 6 - Dog\n",
      "1/1 [==============================] - 0s 23ms/step\n",
      "Image 7 - Cat\n",
      "1/1 [==============================] - 0s 15ms/step\n",
      "Image 8 - Dog\n"
     ]
    }
   ],
   "source": [
    "for i in range(1, 9):\n",
    "    predic_animal(f'cat_dog_to_predict/{i}.jpg', model, i)"
   ]
  },
  {
   "cell_type": "code",
   "execution_count": null,
   "id": "d5c533a2-4f2f-406a-8e3b-f18f893ba760",
   "metadata": {},
   "outputs": [],
   "source": []
  }
 ],
 "metadata": {
  "kernelspec": {
   "display_name": "Python 3 (ipykernel)",
   "language": "python",
   "name": "python3"
  },
  "language_info": {
   "codemirror_mode": {
    "name": "ipython",
    "version": 3
   },
   "file_extension": ".py",
   "mimetype": "text/x-python",
   "name": "python",
   "nbconvert_exporter": "python",
   "pygments_lexer": "ipython3",
   "version": "3.9.12"
  }
 },
 "nbformat": 4,
 "nbformat_minor": 5
}
