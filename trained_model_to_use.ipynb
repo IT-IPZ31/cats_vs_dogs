{
 "cells": [
  {
   "cell_type": "code",
   "execution_count": 11,
   "id": "ded045fe-e615-4ac2-b01c-40611551b9c7",
   "metadata": {},
   "outputs": [],
   "source": [
    "import tensorflow as tf\n",
    "import numpy as np\n",
    "import keras"
   ]
  },
  {
   "cell_type": "code",
   "execution_count": 12,
   "id": "4bae255a-11b2-45c0-9cd1-6d9ba7da3fda",
   "metadata": {},
   "outputs": [],
   "source": [
    "model = tf.keras.models.Sequential()\n",
    "model.add(tf.keras.layers.Conv2D(filters=32, kernel_size=3, activation='relu', input_shape=[64, 64, 3]))\n",
    "model.add(tf.keras.layers.MaxPool2D(pool_size=2, strides=2))\n",
    "model.add(tf.keras.layers.Conv2D(filters = 32,kernel_size = 3, activation = 'relu'))\n",
    "model.add(tf.keras.layers.MaxPool2D(pool_size = 2, strides = 2))\n",
    "model.add(tf.keras.layers.Flatten())\n",
    "\n",
    "model.add(tf.keras.layers.Dense(units=128, activation='relu'))\n",
    "model.add(tf.keras.layers.Dense(units=1, activation='sigmoid'))\n",
    "\n",
    "model.load_weights('checkpoints/model_at_20.h5')"
   ]
  },
  {
   "cell_type": "code",
   "execution_count": 13,
   "id": "4daab437-7d29-47da-9770-726d4b82a71d",
   "metadata": {},
   "outputs": [],
   "source": [
    "def predic_animal(filename, model, i):\n",
    "    test_img = tf.keras.utils.load_img(filename, target_size = (64, 64))\n",
    "    img = tf.keras.utils.img_to_array(test_img)\n",
    "    img = np.expand_dims(img, axis = 0)\n",
    "    \n",
    "    res = model.predict(img)\n",
    "    #train_ds.class_indices # ?\n",
    "    if res[0][0] == 1:\n",
    "        print(f\"Image {i} - Dog\")\n",
    "    else:\n",
    "        print(f\"Image {i} - Cat\")"
   ]
  },
  {
   "cell_type": "code",
   "execution_count": 14,
   "id": "1a89c50d-05cf-45af-8607-6ec4f02c6481",
   "metadata": {},
   "outputs": [
    {
     "name": "stdout",
     "output_type": "stream",
     "text": [
      "1/1 [==============================] - 0s 103ms/step\n",
      "Image 1 - Dog\n",
      "1/1 [==============================] - 0s 27ms/step\n",
      "Image 2 - Dog\n",
      "1/1 [==============================] - 0s 27ms/step\n",
      "Image 3 - Dog\n",
      "1/1 [==============================] - 0s 30ms/step\n",
      "Image 4 - Dog\n",
      "1/1 [==============================] - 0s 23ms/step\n",
      "Image 5 - Cat\n",
      "1/1 [==============================] - 0s 26ms/step\n",
      "Image 6 - Dog\n",
      "1/1 [==============================] - 0s 25ms/step\n",
      "Image 7 - Cat\n",
      "1/1 [==============================] - 0s 30ms/step\n",
      "Image 8 - Dog\n"
     ]
    }
   ],
   "source": [
    "for i in range(1, 9):\n",
    "    predic_animal(f'cat_dog_to_predict/{i}.jpg', model, i)"
   ]
  },
  {
   "cell_type": "code",
   "execution_count": null,
   "id": "b4e0109b-285c-4041-a7d7-2606d034da8c",
   "metadata": {},
   "outputs": [],
   "source": []
  }
 ],
 "metadata": {
  "kernelspec": {
   "display_name": "Python 3 (ipykernel)",
   "language": "python",
   "name": "python3"
  },
  "language_info": {
   "codemirror_mode": {
    "name": "ipython",
    "version": 3
   },
   "file_extension": ".py",
   "mimetype": "text/x-python",
   "name": "python",
   "nbconvert_exporter": "python",
   "pygments_lexer": "ipython3",
   "version": "3.9.12"
  }
 },
 "nbformat": 4,
 "nbformat_minor": 5
}
