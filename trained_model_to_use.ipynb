{
 "cells": [
  {
   "cell_type": "code",
   "execution_count": 1,
   "id": "ded045fe-e615-4ac2-b01c-40611551b9c7",
   "metadata": {},
   "outputs": [],
   "source": [
    "import tensorflow as tf\n",
    "import numpy as np\n",
    "import keras"
   ]
  },
  {
   "cell_type": "code",
   "execution_count": 2,
   "id": "4bae255a-11b2-45c0-9cd1-6d9ba7da3fda",
   "metadata": {},
   "outputs": [],
   "source": [
    "model = tf.keras.models.Sequential()\n",
    "model.add(tf.keras.layers.Conv2D(filters=32, kernel_size=3, activation='relu', input_shape=[64, 64, 3]))\n",
    "model.add(tf.keras.layers.MaxPool2D(pool_size=2, strides=2))\n",
    "model.add(tf.keras.layers.Conv2D(filters = 32,kernel_size = 3, activation = 'relu'))\n",
    "model.add(tf.keras.layers.MaxPool2D(pool_size = 2, strides = 2))\n",
    "model.add(tf.keras.layers.Flatten())\n",
    "\n",
    "model.add(tf.keras.layers.Dense(units=128, activation='relu'))\n",
    "model.add(tf.keras.layers.Dense(units=1, activation='sigmoid'))\n",
    "\n",
    "model.load_weights('checkpoints/model_at_20.h5')"
   ]
  },
  {
   "cell_type": "code",
   "execution_count": null,
   "id": "4daab437-7d29-47da-9770-726d4b82a71d",
   "metadata": {},
   "outputs": [],
   "source": []
  },
  {
   "cell_type": "code",
   "execution_count": 13,
   "id": "1a89c50d-05cf-45af-8607-6ec4f02c6481",
   "metadata": {},
   "outputs": [],
   "source": [
    "def predict_image(filename, model, i):\n",
    "    predict = tf.keras.utils.load_img(filename, target_size = (64, 64))   \n",
    "    predict_modified = tf.keras.utils.img_to_array(predict)\n",
    "    predict_modified = predict_modified / 255\n",
    "    predict_modified = np.expand_dims(predict_modified, axis = 0)\n",
    "    result = model.predict(predict_modified)\n",
    "    if result[0][0] >= 0.5:\n",
    "        prediction = 'dog'\n",
    "        probability = result[0][0]\n",
    "        print(\"Prediction = \" + prediction)\n",
    "        print (\"probability = \" + str(probability))\n",
    "    else:\n",
    "        prediction = 'cat'\n",
    "        probability = 1 - result[0][0]\n",
    "        print(\"Prediction = \" + prediction)\n",
    "        print (\"probability = \" + str(probability))\n",
    "        "
   ]
  },
  {
   "cell_type": "code",
   "execution_count": 14,
   "id": "df8e5756-8b8f-49ed-88f0-5db0ba1c8c2b",
   "metadata": {},
   "outputs": [
    {
     "name": "stdout",
     "output_type": "stream",
     "text": [
      "1/1 [==============================] - 0s 24ms/step\n",
      "Prediction = dog\n",
      "probability = 0.66152406\n",
      "1/1 [==============================] - 0s 23ms/step\n",
      "Prediction = dog\n",
      "probability = 0.892339\n",
      "1/1 [==============================] - 0s 28ms/step\n",
      "Prediction = dog\n",
      "probability = 0.98126984\n",
      "1/1 [==============================] - 0s 24ms/step\n",
      "Prediction = dog\n",
      "probability = 0.99773496\n",
      "1/1 [==============================] - 0s 29ms/step\n",
      "Prediction = cat\n",
      "probability = 0.9069023430347443\n",
      "1/1 [==============================] - 0s 24ms/step\n",
      "Prediction = dog\n",
      "probability = 0.9530731\n",
      "1/1 [==============================] - 0s 31ms/step\n",
      "Prediction = cat\n",
      "probability = 0.9999987125960388\n",
      "1/1 [==============================] - 0s 25ms/step\n",
      "Prediction = cat\n",
      "probability = 0.8632197827100754\n"
     ]
    }
   ],
   "source": [
    "for i in range(1, 9):\n",
    "    predict_image(f'cat_dog_to_predict/{i}.jpg', model, i)"
   ]
  },
  {
   "cell_type": "code",
   "execution_count": null,
   "id": "e3eafaa4-f264-4d4d-aad5-7dac88faaabb",
   "metadata": {},
   "outputs": [],
   "source": []
  }
 ],
 "metadata": {
  "kernelspec": {
   "display_name": "Python 3",
   "language": "python",
   "name": "python3"
  },
  "language_info": {
   "codemirror_mode": {
    "name": "ipython",
    "version": 3
   },
   "file_extension": ".py",
   "mimetype": "text/x-python",
   "name": "python",
   "nbconvert_exporter": "python",
   "pygments_lexer": "ipython3",
   "version": "3.9.7 (tags/v3.9.7:1016ef3, Aug 30 2021, 20:19:38) [MSC v.1929 64 bit (AMD64)]"
  },
  "vscode": {
   "interpreter": {
    "hash": "ed176e82544a11106f6334888d553e699c94d3f43dc550fa598ee95b4dcf8cc5"
   }
  }
 },
 "nbformat": 4,
 "nbformat_minor": 5
}
